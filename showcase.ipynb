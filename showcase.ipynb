{
 "cells": [
  {
   "cell_type": "code",
   "execution_count": null,
   "metadata": {
    "collapsed": true
   },
   "outputs": [],
   "source": [
    "using CSV, Knet, Plots, PolynomialRoots\n",
    "#pyplot()\n",
    "gr()"
   ]
  },
  {
   "cell_type": "code",
   "execution_count": null,
   "metadata": {
    "collapsed": true
   },
   "outputs": [],
   "source": [
    "include(\"rblc.jl\")"
   ]
  },
  {
   "cell_type": "code",
   "execution_count": null,
   "metadata": {
    "collapsed": true
   },
   "outputs": [],
   "source": [
    "#Range related input data\n",
    "const dRH=RangeHolder{Date}(Date(2016,1,1),Date(2021,1,1));\n",
    "const sRH=RangeHolder{Integer}(0,2^17);\n",
    "subDataFrame=CSV.read(\"subdata.csv\",nullable=false);"
   ]
  },
  {
   "cell_type": "code",
   "execution_count": null,
   "metadata": {
    "collapsed": true
   },
   "outputs": [],
   "source": [
    "#Sub related data\n",
    "#6728 feliratkozó on 2018-01-26\n",
    "gsub=[6728,2^13,2^14];"
   ]
  },
  {
   "cell_type": "code",
   "execution_count": null,
   "metadata": {
    "collapsed": true
   },
   "outputs": [],
   "source": [
    "Wlin=learnLinPars(10000,subDataFrame,0.1,sRH,dRH,printNum=5000);"
   ]
  },
  {
   "cell_type": "code",
   "execution_count": null,
   "metadata": {
    "collapsed": true
   },
   "outputs": [],
   "source": [
    "#plotLinNN(W,sRH,dRH,subDataFrame);\n",
    "#gdlin=whenGivenSub(gsub,W,sRH,dRH);\n",
    "plotLinNN(Wlin,sRH,dRH,subDataFrame,gsub)"
   ]
  },
  {
   "cell_type": "code",
   "execution_count": null,
   "metadata": {
    "collapsed": true
   },
   "outputs": [],
   "source": [
    "Wquad=learnQuadPars(10000,subDataFrame,0.1,sRH,dRH,printNum=5000);"
   ]
  },
  {
   "cell_type": "code",
   "execution_count": null,
   "metadata": {
    "collapsed": true
   },
   "outputs": [],
   "source": [
    "plotQuadNN(Wquad,sRH,dRH,subDataFrame,gsub)"
   ]
  },
  {
   "cell_type": "code",
   "execution_count": null,
   "metadata": {
    "collapsed": true
   },
   "outputs": [],
   "source": [
    "Wexp=learnExpPars(10000,subDataFrame,0.1,sRH,dRH,printNum=5000);"
   ]
  },
  {
   "cell_type": "code",
   "execution_count": null,
   "metadata": {
    "collapsed": true
   },
   "outputs": [],
   "source": [
    "plotExpNN(Wexp,sRH,dRH,subDataFrame,gsub)"
   ]
  }
 ],
 "metadata": {
  "kernelspec": {
   "display_name": "Julia 0.6.0",
   "language": "julia",
   "name": "julia-0.6"
  },
  "language_info": {
   "file_extension": ".jl",
   "mimetype": "application/julia",
   "name": "julia",
   "version": "0.6.0"
  }
 },
 "nbformat": 4,
 "nbformat_minor": 2
}
