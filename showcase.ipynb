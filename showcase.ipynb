{
 "cells": [
  {
   "cell_type": "code",
   "execution_count": 1,
   "metadata": {
    "collapsed": true
   },
   "outputs": [
    {
     "name": "stderr",
     "output_type": "stream",
     "text": [
      ".Nullable{S}, Base"
     ]
    },
    {
     "data": {
      "text/plain": [
       "Plots.GRBackend()"
      ]
     },
     "execution_count": 1,
     "metadata": {},
     "output_type": "execute_result"
    },
    {
     "name": "stderr",
     "output_type": "stream",
     "text": [
      ".Nullable{T}) in module Base at nullable.jl:238 overwritten in module NullableArrays at C:\\\\\\\\\\\\\\\\\\\\\\\\\\\\\\\\\\\\\\\\\\\\\\\\\\\\\\\\\\\\\\\\\\\\\\\\\\\\\\\\\\\\\\\\\\\\\\\\\\\\\\\\\\\\\\Users\\Pista\\AppData\\Local\\JuliaPro-0.6.0.1\\pkgs-0.6.0.1\\v0.6\\NullableArrays\\src\\operators.jl:128.\n"
     ]
    }
   ],
   "source": [
    "using CSV, Knet, Plots, PolynomialRoots\n",
    "#pyplot()\n",
    "gr()"
   ]
  },
  {
   "cell_type": "code",
   "execution_count": null,
   "metadata": {},
   "outputs": [],
   "source": [
    "include(\"rblc.jl\")"
   ]
  },
  {
   "cell_type": "code",
   "execution_count": null,
   "metadata": {},
   "outputs": [],
   "source": [
    "#Range related input data\n",
    "const dRH=RangeHolder{Date}(Date(2016,1,1),Date(2020,1,1));\n",
    "const sRH=RangeHolder{Integer}(0,2^17);\n",
    "#Sub related data\n",
    "const csvName=\"subdata.csv\"\n",
    "gsub=2^13;"
   ]
  },
  {
   "cell_type": "code",
   "execution_count": null,
   "metadata": {
    "collapsed": true
   },
   "outputs": [],
   "source": [
    "subDataFrame=CSV.read(csvName,nullable=false);"
   ]
  },
  {
   "cell_type": "code",
   "execution_count": null,
   "metadata": {},
   "outputs": [],
   "source": [
    "#Wlin=learnLinPars(1000,subDataFrame,0.1,sRH,dRH,printNum=200);\n",
    "#plotLinNN(W,sRH,dRH,subDataFrame);\n",
    "#gdlin=whenGivenSub(gsub,W,sRH,dRH);\n",
    "#plotLinNN(W,sRH,dRH,subDataFrame,gsub);"
   ]
  },
  {
   "cell_type": "code",
   "execution_count": null,
   "metadata": {},
   "outputs": [],
   "source": [
    "Wquad=learnQuadPars(1000,subDataFrame,0.1,sRH,dRH,printNum=200);\n",
    "#plotQuadNN(W,sRH,dRH,subDataFrame,gsub)"
   ]
  },
  {
   "cell_type": "code",
   "execution_count": null,
   "metadata": {},
   "outputs": [],
   "source": [
    "plotQuadNN(Wquad,sRH,dRH,subDataFrame,[2^13,2^14])"
   ]
  },
  {
   "cell_type": "code",
   "execution_count": null,
   "metadata": {},
   "outputs": [],
   "source": [
    "W=learnExpPars(1000,subDataFrame,0.1,sRH,dRH,printNum=200)\n",
    "plotExpNN(W,sRH,dRH,subDataFrame,gsub)"
   ]
  }
 ],
 "metadata": {
  "kernelspec": {
   "display_name": "Julia 0.6.0",
   "language": "julia",
   "name": "julia-0.6"
  },
  "language_info": {
   "file_extension": ".jl",
   "mimetype": "application/julia",
   "name": "julia",
   "version": "0.6.0"
  }
 },
 "nbformat": 4,
 "nbformat_minor": 2
}
